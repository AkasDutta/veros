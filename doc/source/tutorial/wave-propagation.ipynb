{
 "cells": [
  {
   "cell_type": "markdown",
   "metadata": {},
   "source": [
    "# Creating an advanced model setup\n",
    "\n",
    "This is a step-by-step guide that illustrates how even complicated setups can be created with relative ease (thanks to the tools provided by the scientific Python community). As an example, we will re-create the :ref:`wave propagation setup <setup-wave-propagation>`, which is a global ocean model with an idealized Atlantic."
   ]
  },
  {
   "cell_type": "markdown",
   "metadata": {},
   "source": [
    "## The vision\n",
    "\n",
    "The purpose of this model is to examine wave propagation along the eastern boundary of the North Atlantic. Since it is difficult to track propagating waves\n",
    "\n",
    "Since the presence of the Pacific in the model is crucial to achieve a realistic ocean circulation, \n",
    "\n",
    "This leaves us with the following requirements for the final wave propagation model:\n",
    "\n",
    "- Global model with a resolution of around 1 degree.\n",
    "- Idealized geometry in the Atlantic, so analytically derived wave properties hold.\n",
    "- A refined grid resolution at the eastern boundary of the Atlantic.\n",
    "- Zonally averaged wind stresses in the Atlantic to fill gaps in wind stress data.\n",
    "- A somehow interpolated initial state and forcings for cells that have been converted from land to ocean."
   ]
  },
  {
   "cell_type": "markdown",
   "metadata": {},
   "source": [
    "## Step 1: The model skeleton\n",
    "\n",
    "Instead of starting from scratch"
   ]
  },
  {
   "cell_type": "markdown",
   "metadata": {},
   "source": [
    "## Step 2: Preparing the forcing fields & initial conditions"
   ]
  },
  {
   "cell_type": "markdown",
   "metadata": {},
   "source": [
    "## Step 3: Creating idealized geometries"
   ]
  },
  {
   "cell_type": "markdown",
   "metadata": {},
   "source": [
    "### Create a mask image\n",
    "\n",
    "### Modify the mask\n",
    "\n",
    "### Import to PyOM"
   ]
  }
 ],
 "metadata": {
  "kernelspec": {
   "display_name": "Python 2",
   "language": "python",
   "name": "python2"
  },
  "language_info": {
   "codemirror_mode": {
    "name": "ipython",
    "version": 2
   },
   "file_extension": ".py",
   "mimetype": "text/x-python",
   "name": "python",
   "nbconvert_exporter": "python",
   "pygments_lexer": "ipython2",
   "version": "2.7.12+"
  }
 },
 "nbformat": 4,
 "nbformat_minor": 2
}
